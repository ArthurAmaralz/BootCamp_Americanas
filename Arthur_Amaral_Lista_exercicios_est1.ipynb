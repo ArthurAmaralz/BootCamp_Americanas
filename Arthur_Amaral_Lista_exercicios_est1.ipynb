{
  "cells": [
    {
      "cell_type": "markdown",
      "id": "6bbe1be8-11db-48e4-9bd6-d5e52c0a190e",
      "metadata": {
        "id": "6bbe1be8-11db-48e4-9bd6-d5e52c0a190e"
      },
      "source": [
        "# Lista de Exercícios I - Estatística I\n",
        "\n",
        "<br>\n",
        "\n",
        "__Obs.:__ A presença da aula de exercícios está atrelada a entrega deles. Ou seja, caso o aula não queria ficar durante a aula, não tem problema desde que entregue os exercícios dentro do prazo estipulado.\n",
        "\n",
        "__Prazo:__ 05/03"
      ]
    },
    {
      "cell_type": "markdown",
      "id": "b03ee944",
      "metadata": {
        "id": "b03ee944"
      },
      "source": [
        "__1)__ A probabilidade de dado honesto é conhecido e igual a $1/6$, mas quando vamos testar isso com um dado físico, não necessariamente vai cair uma vez cada face do dado (se eu lançar ele 6 vezes). A ideia é que conforme fazermos vários testes a tendência é que a probabilidade de cada face irá convergir pro valor esperado. \n",
        "\n",
        "Vamos testar este conceito utilizando da programação seguintes os itens abaixo:]\n",
        "\n",
        "__A)__ Desenvolva uma função que receba um valor n, onde n é a quantidade de elementos e o objetivo da função é retorna uma _Series_ com n elementos sendo esses elementos números variando de 1 e 6;\n",
        "\n",
        "__B)__ Teste a função para n igual a 10, 100, 1.000, 10.000 e 100.000 casos e para cada um deles calcule a proporção de vezes que aparece cada número;\n",
        "\n",
        "__DIca.:__ utilize a função do _Pandas_ `.value_counts`\n",
        "\n",
        "__C)__ O que podermos dizer sobre a afirmação do enunciado, a tendência é que as probabilidades irâo convergir para $1/6$?"
      ]
    },
    {
      "cell_type": "code",
      "execution_count": null,
      "id": "a107d0b5",
      "metadata": {
        "colab": {
          "base_uri": "https://localhost:8080/"
        },
        "id": "a107d0b5",
        "outputId": "730bbd57-ec73-4e0b-8556-a033678bd34d"
      },
      "outputs": [
        {
          "output_type": "execute_result",
          "data": {
            "text/plain": [
              "0    3\n",
              "1    2\n",
              "2    6\n",
              "3    5\n",
              "4    6\n",
              "dtype: int64"
            ]
          },
          "metadata": {},
          "execution_count": 8
        }
      ],
      "source": [
        "\"\"\" A) Desenvolva uma função que receba um valor n, onde n é a quantidade de elementos e \n",
        "       o objetivo da função é retorna uma Series com n elementos sendo esses elementos números variando de 1 e 6;\"\"\"\n",
        "\n",
        "import pandas as pd\n",
        "import numpy as np\n",
        "\n",
        "def dado(n):\n",
        "\n",
        "    num_dado = np.random.randint(1, 7, n)\n",
        "    return pd.Series(num_dado)\n",
        "\n",
        "dado(5)"
      ]
    },
    {
      "cell_type": "code",
      "execution_count": null,
      "id": "caf3b124",
      "metadata": {
        "colab": {
          "base_uri": "https://localhost:8080/"
        },
        "id": "caf3b124",
        "outputId": "4e4638c8-f897-4e5b-bcf3-eeb86b4c2624"
      },
      "outputs": [
        {
          "output_type": "stream",
          "name": "stdout",
          "text": [
            "n = 10\n",
            "6    0.3\n",
            "2    0.2\n",
            "4    0.2\n",
            "1    0.2\n",
            "5    0.1\n",
            "dtype: float64\n",
            "\n",
            "n = 100\n",
            "2    0.21\n",
            "6    0.20\n",
            "1    0.17\n",
            "3    0.15\n",
            "5    0.14\n",
            "4    0.13\n",
            "dtype: float64\n",
            "\n",
            "n = 1000\n",
            "4    0.186\n",
            "1    0.174\n",
            "5    0.166\n",
            "6    0.161\n",
            "3    0.157\n",
            "2    0.156\n",
            "dtype: float64\n",
            "\n",
            "n = 10000\n",
            "5    0.1739\n",
            "6    0.1665\n",
            "2    0.1662\n",
            "3    0.1647\n",
            "1    0.1644\n",
            "4    0.1643\n",
            "dtype: float64\n",
            "\n",
            "n = 100000\n",
            "4    0.16849\n",
            "5    0.16693\n",
            "3    0.16645\n",
            "1    0.16629\n",
            "6    0.16606\n",
            "2    0.16578\n",
            "dtype: float64\n",
            "\n"
          ]
        }
      ],
      "source": [
        "\"\"\" B) Teste a função para n igual a 10, 100, 1.000, 10.000 e 100.000 casos e \n",
        "       para cada um deles calcule a proporção de vezes que aparece cada número \"\"\"\n",
        "\n",
        "n_valores = [10, 100, 1000, 10000, 100000]\n",
        "\n",
        "for n in n_valores:\n",
        "    rolagem = dado(n)\n",
        "    count = rolagem.value_counts(normalize=True)\n",
        "    print(f\"n = {n}\\n{count}\\n\")\n"
      ]
    },
    {
      "cell_type": "markdown",
      "source": [
        "C) O que podermos dizer sobre a afirmação do enunciado, a tendência é que as probabilidades irâo convergir para  1/6 ?\n",
        "\n",
        "\n",
        "De fato, a medida que vamos aumentando a quantidade de lançamentos vemos\n",
        "uma maior uniformidade na proporção dos resultados, tendendo para ~16,7% \n",
        "(0.1666...)\n",
        "___\n"
      ],
      "metadata": {
        "id": "JXWtDD44OgGU"
      },
      "id": "JXWtDD44OgGU"
    },
    {
      "cell_type": "markdown",
      "id": "b8b7fc6c",
      "metadata": {
        "id": "b8b7fc6c"
      },
      "source": [
        "__2)__ Um programa de computador gera uma pontuação aleatória para cada usuário, sendo que:\n",
        "\n",
        "- Em 1/2 dos casos, gera 0.5;\n",
        "- Em 1/4 dos casos, gera 0.25;\n",
        "- Em 1/8 dos casos, gera 0.125.\n",
        "\n",
        "E essa lógica segue assim por diante. Resolva os itens a seguir:\n",
        "\n",
        "__A)__ Calcule o __valor esperado__ utilizando apenas os 3 primeiros casos;\n",
        "\n",
        "__B)__ Faça um _loop_ para calcular o __valor esperado__ para 100 casos e avalie se só com os 3 primeiros casos temos uma boa aproximação ou não."
      ]
    },
    {
      "cell_type": "markdown",
      "source": [],
      "metadata": {
        "id": "tE6Oh3ErP0T3"
      },
      "id": "tE6Oh3ErP0T3"
    },
    {
      "cell_type": "code",
      "execution_count": null,
      "id": "97e6bb5a",
      "metadata": {
        "colab": {
          "base_uri": "https://localhost:8080/"
        },
        "id": "97e6bb5a",
        "outputId": "225b03ed-96ec-4a06-a6e8-218c53305144"
      },
      "outputs": [
        {
          "output_type": "execute_result",
          "data": {
            "text/plain": [
              "0.328125"
            ]
          },
          "metadata": {},
          "execution_count": 60
        }
      ],
      "source": [
        "# A) Calcule o valor esperado utilizando apenas os 3 primeiros casos\n",
        "\n",
        "valor_esperado = (1/2) * 0.5 + (1/4) * 0.25 + (1/8) * 0.125\n",
        "valor_esperado"
      ]
    },
    {
      "cell_type": "code",
      "execution_count": null,
      "id": "d7892d7b",
      "metadata": {
        "colab": {
          "base_uri": "https://localhost:8080/"
        },
        "id": "d7892d7b",
        "outputId": "ac5ef41f-d729-4f4d-ddbf-dffe4bec4426"
      },
      "outputs": [
        {
          "output_type": "stream",
          "name": "stdout",
          "text": [
            "Valor acumulado = 0.3333333333333333\n",
            "Proporção dos 3 primeiros e os 100 casos: 0.984375\n"
          ]
        }
      ],
      "source": [
        "\"\"\" B) Faça um loop para calcular o valor esperado para 100 casos \n",
        "   e avalie se só com os 3 primeiros casos temos uma boa aproximação ou não. \"\"\"\n",
        "\n",
        "valor = 0 # Só para zerar a variavel caso rode mais de uma vez\n",
        "\n",
        "for i in range(1,101):\n",
        "  resultado = 1/(2**i)\n",
        "  valor += resultado*resultado\n",
        "print(f\"Valor acumulado = {valor}\\nProporção dos 3 primeiros e os 100 casos: {valor_esperado/valor}\")"
      ]
    },
    {
      "cell_type": "markdown",
      "source": [
        "O valor aculumado para os 100 casos é de 0.333... e como o valor dos 3 primeiros\n",
        "casos é de 0.328125, ao fazermos a proporção entre eles temos o resultado de 0.984375 (98% de precisão).\n",
        "\n",
        "Nesse caso, o valor esperado obtido com 100 casos é muito próximo do valor esperado \n",
        "calculado apenas com os três primeiros casos, sugerindo que a aproximação é excelente!\n",
        "___"
      ],
      "metadata": {
        "id": "vbDyTTJo9V1Z"
      },
      "id": "vbDyTTJo9V1Z"
    },
    {
      "cell_type": "markdown",
      "id": "8bd11d66-b6c2-4706-8686-4e0047cded58",
      "metadata": {
        "id": "8bd11d66-b6c2-4706-8686-4e0047cded58"
      },
      "source": [
        "__3)__ Suponha que o limite de uma estrada é de 80km/h e, a partir da medição por radar, sabe-se que nessa rodovia a velocidade dos veículo $X$ segue uma distribuição normal com média de 72km/h e desvio padrão de 8 km/h.\n",
        " - Qual a probabilidade de um veículo ser multado?\n",
        " - Além da multa, se um veículo ultrapassar o limite em 30km/h, o motorista perde a carteira. Considerando apenas os infratores de velocidade, qual a probabilidade dele perder a carteira?\n",
        "    "
      ]
    },
    {
      "cell_type": "code",
      "execution_count": null,
      "id": "e2261847",
      "metadata": {
        "colab": {
          "base_uri": "https://localhost:8080/"
        },
        "id": "e2261847",
        "outputId": "d711363d-8d11-45a6-8cf4-bf3a70161df0"
      },
      "outputs": [
        {
          "output_type": "stream",
          "name": "stdout",
          "text": [
            "A probabilidade de um veículo ser multado é de: 13.03%\n"
          ]
        }
      ],
      "source": [
        "# Qual a probabilidade de um veículo ser multado?\n",
        "\n",
        "from scipy.stats import norm\n",
        "\n",
        "media = 72\n",
        "desvio_padrao = 8\n",
        "probabilidade_multa = 1 - norm.cdf(81, media, desvio_padrao)\n",
        "print(f\"A probabilidade de um veículo ser multado é de: {probabilidade_multa:.2%}\")"
      ]
    },
    {
      "cell_type": "code",
      "execution_count": null,
      "id": "5fc46197",
      "metadata": {
        "colab": {
          "base_uri": "https://localhost:8080/"
        },
        "id": "5fc46197",
        "outputId": "59f37626-7c8c-453a-cb6e-223ea1054548"
      },
      "outputs": [
        {
          "output_type": "stream",
          "name": "stdout",
          "text": [
            "A probabilidade do motorista perder a carteira é de: 0.000102%\n"
          ]
        }
      ],
      "source": [
        "perder_carteira = 1 - norm.cdf(110, media, desvio_padrao)\n",
        "print(f\"A probabilidade do motorista perder a carteira é de: {perder_carteira:.6%}\")"
      ]
    },
    {
      "cell_type": "markdown",
      "source": [
        "O resultado é uma probabilidade muito próxima de zero, indicando que é muito improvável que um veículo infrator atinja essa velocidade e perca a carteira.\n",
        "___"
      ],
      "metadata": {
        "id": "2TEKd7Q9SqPP"
      },
      "id": "2TEKd7Q9SqPP"
    },
    {
      "cell_type": "markdown",
      "id": "17df2c74-5ecf-49ce-8118-4d10a7f618e0",
      "metadata": {
        "id": "17df2c74-5ecf-49ce-8118-4d10a7f618e0"
      },
      "source": [
        "__4)__ Suponha que a probabilidade de uma criança nascer loira é de 1/4. Se houverem 6 crianças na família, qual é a probabilidade de 3 dele serem loiros?"
      ]
    },
    {
      "cell_type": "code",
      "execution_count": null,
      "id": "3ae0ee2e",
      "metadata": {
        "id": "3ae0ee2e",
        "colab": {
          "base_uri": "https://localhost:8080/"
        },
        "outputId": "31d2e01b-f689-42ac-9a53-9cd984c38126"
      },
      "outputs": [
        {
          "output_type": "stream",
          "name": "stdout",
          "text": [
            "Portanto, a probabilidade de termos exatamente 3 crianças loiras em uma de 6 crianças é de aproximadamente:\n",
            " 13.18%\n"
          ]
        }
      ],
      "source": [
        "#P(X=k) = C(n,k) * p^k * (1-p)^(n-k)\n",
        "\n",
        "def fac(n):\n",
        "    if n == 0:\n",
        "        return 1\n",
        "    else:\n",
        "        return n * fac(n-1)\n",
        "\n",
        "# P(X=3) = C(6,3) * (1/4)^3 * (3/4)^6-3\n",
        "\n",
        "c = fac(6) / (fac(3) * fac(6-3))\n",
        "probabilidade = c * (1/4)**3 * (3/4)**3\n",
        "\n",
        "print(f\"Portanto, a probabilidade de termos exatamente 3 crianças loiras em uma de 6 crianças é de aproximadamente:\\n {probabilidade:.2%}\")"
      ]
    },
    {
      "cell_type": "markdown",
      "id": "229db1ae-e7ac-47fb-9e35-d5e78ee24dd2",
      "metadata": {
        "id": "229db1ae-e7ac-47fb-9e35-d5e78ee24dd2"
      },
      "source": [
        "__5)__ Se a probabilidade de atingir um alvo com um único disparo é de 0.3. Qual é a probabilidade de, em 4 disparos, atingirmos o alvo ao menos 3 vezes?\n"
      ]
    },
    {
      "cell_type": "code",
      "execution_count": null,
      "id": "c7060b3e",
      "metadata": {
        "id": "c7060b3e",
        "colab": {
          "base_uri": "https://localhost:8080/"
        },
        "outputId": "1e9e5eb1-2b1f-4d5f-b305-6fbcad17bc2b"
      },
      "outputs": [
        {
          "output_type": "stream",
          "name": "stdout",
          "text": [
            "A probabilidade de acerto é de aproximadamente: 8.37%\n"
          ]
        }
      ],
      "source": [
        "# Probabilidade de atingir 3x em 4 tiros\n",
        "# P(X=3) = C(4,3) * (0.3)^3  * (1-0,3)^4-3\n",
        "\n",
        "c3 = fac(4) / (fac(3) * fac(4-3))\n",
        "probabilidade3 = c3 * (0.3)**3 * (1-0.3)**1\n",
        "\n",
        "# Probabilidade de atingir 4x em 4 tiros\n",
        "# P(X=4) = comb(4,4) * (0.3)^4 * (0.7)^4-4\n",
        "c4 = fac(4) / (fac(4) * fac(4-4))\n",
        "probabilidade4 = c4 * (0.3)**4 * (0.7)**0\n",
        "\n",
        "print(f\"A probabilidade de acerto é de aproximadamente: {probabilidade3 + probabilidade4:.2%}\")"
      ]
    },
    {
      "cell_type": "markdown",
      "id": "7759d93d-5ea0-4c95-b059-3710133469d0",
      "metadata": {
        "id": "7759d93d-5ea0-4c95-b059-3710133469d0"
      },
      "source": [
        "__6)__ Suponha que o número de meteoros registrados por um sistema de radares num intervalo qualquer de 30 segundos é de 1.81 em média. Assumindo que os meteoros aparecem aleatoriamente e de forma independente. Usando a distribuição de Poisson determine:\n",
        " - A probabilidade de que nenhum meteoro seja encontrado num intervalo de 1 minuto.\n",
        " - A probabilidade encontrarmos de 5 a 8 meteoros em 2 minutos."
      ]
    },
    {
      "cell_type": "code",
      "execution_count": null,
      "id": "8ee1195f",
      "metadata": {
        "id": "8ee1195f",
        "colab": {
          "base_uri": "https://localhost:8080/"
        },
        "outputId": "1de91f2a-e03a-4c4e-ea10-f2195453da0e"
      },
      "outputs": [
        {
          "output_type": "stream",
          "name": "stdout",
          "text": [
            "Probabilidade de não encontrar nenhum meteoro em um minuto: 0.0268 ou 2.68%\n"
          ]
        }
      ],
      "source": [
        "# A probabilidade de que nenhum meteoro seja encontrado num intervalo de 1 minuto\n",
        "\n",
        "def poisson(lbd, k):\n",
        "    return (np.exp(-lbd)*(lbd**k))/fac(k)\n",
        "# Como a probabilidade é de 1.81 acada 30s, vamos duplicar por se tratar de 1 min\n",
        "lbd =  1.81 * 2\n",
        "\n",
        "# Como queremos 0 meteoros\n",
        "k = 0\n",
        "\n",
        "print(f\"Probabilidade de não encontrar nenhum meteoro em um minuto: {poisson(lbd,k):.4f} ou {poisson(lbd,k):.2%}\")"
      ]
    },
    {
      "cell_type": "code",
      "source": [
        "# Forma importando a biblioteca\n",
        "\n",
        "# from scipy.stats import poisson\n",
        "\n",
        "# media = 1.81 * 2\n",
        "# prob_zero_meteoro = poisson.pmf(0, media)\n",
        "\n",
        "# print(\"Probabilidade de não encontrar nenhum meteoro em um minuto:\", prob_zero_meteoro)"
      ],
      "metadata": {
        "id": "8IEdoW1N_HSQ"
      },
      "id": "8IEdoW1N_HSQ",
      "execution_count": null,
      "outputs": []
    },
    {
      "cell_type": "code",
      "execution_count": null,
      "id": "6acebf93-fcee-4a4d-8303-b6cd1cd3b16e",
      "metadata": {
        "id": "6acebf93-fcee-4a4d-8303-b6cd1cd3b16e",
        "colab": {
          "base_uri": "https://localhost:8080/"
        },
        "outputId": "8926ffc1-2254-43ef-a222-1eb5022e9255"
      },
      "outputs": [
        {
          "output_type": "stream",
          "name": "stdout",
          "text": [
            "Probabilidade de encontrar de 5 a 8 meteoros em 2 minutos: 0.5451 ou 54.51%\n"
          ]
        }
      ],
      "source": [
        "# Probabilidade encontrarmos de 5 a 8 meteoros em 2 minutos.\n",
        "lbd = 1.81 * 4\n",
        "\n",
        "resultado = 0 # Só para zerar a variavel caso rode mais de uma vez\n",
        "\n",
        "#Criando um loop para soma das probabilidades de 5 a 8 meteoros\n",
        "for k in range(5, 9):\n",
        "  resultado += poisson(lbd,k)\n",
        "\n",
        "print(f\"Probabilidade de encontrar de 5 a 8 meteoros em 2 minutos: {resultado:.4f} ou {resultado:.2%}\")\n"
      ]
    },
    {
      "cell_type": "code",
      "source": [
        "# Forma importando a biblioteca\n",
        "\n",
        "# from scipy.stats import poisson\n",
        "# media = 1.81 * 4\n",
        "# prob_5_a_8_meteoros = sum(poisson.pmf(i, media) for i in range(5, 9))\n",
        "\n",
        "# print(\"Probabilidade de encontrar de 5 a 8 meteoros em 2 minutos:\", prob_5_a_8_meteoros)"
      ],
      "metadata": {
        "id": "dp1kzXiG6F8e"
      },
      "id": "dp1kzXiG6F8e",
      "execution_count": null,
      "outputs": []
    },
    {
      "cell_type": "markdown",
      "id": "349bfc5c-671a-49f6-bc97-a4dac3643be7",
      "metadata": {
        "id": "349bfc5c-671a-49f6-bc97-a4dac3643be7"
      },
      "source": [
        "__7)__ O número médio de jornais vendidos numa banca é 5 jornais por minuto. Qual é a probabilidade de vender ao menos 1 jornal em um minuto?"
      ]
    },
    {
      "cell_type": "code",
      "execution_count": null,
      "id": "32249350",
      "metadata": {
        "id": "32249350",
        "colab": {
          "base_uri": "https://localhost:8080/"
        },
        "outputId": "a3166592-2eec-4715-b317-9222578a753b"
      },
      "outputs": [
        {
          "output_type": "stream",
          "name": "stdout",
          "text": [
            "A probabilidade de vender ao menos 1 jornal em um minuto é de: 0.9933 ou 99.33%\n"
          ]
        }
      ],
      "source": [
        "lbd = 5\n",
        "\n",
        "# Como a probabilidade é de vender pelo menos 1 jornal, então fazemos a proporção\n",
        "# inversa, que no caso seria não vender nenhum e retirar de 100%.\n",
        "k = 0\n",
        "print(f\"A probabilidade de vender ao menos 1 jornal em um minuto é de: {1 - poisson(lbd,k):.4f} ou {1 - poisson(lbd,k):.2%}\")"
      ]
    },
    {
      "cell_type": "markdown",
      "id": "83df7c47",
      "metadata": {
        "id": "83df7c47"
      },
      "source": [
        "__8)__ (Monty-Hall) Em um programa de auditório, havia 3 portas (A, B, C), dentro da qual uma continha um prêmio. O participante escolheu a porta A e antes de abrir a porta escolhida o apresentador abriu a porta C, na qual não havia nada. O participante aumentará a probabilidade de acertar a porta caso mude a escolha dele da porta A para a B? Demonstre a sua resposta utilizando o Teorema de Bayes? "
      ]
    },
    {
      "cell_type": "markdown",
      "source": [
        "Podemos calcular as probabilidades condicionais usando o Teorema de Bayes:\n",
        "\n",
        "P(A|B) = P(B|A) * P(A) / P(B)\n",
        "P(A|C) = P(C|A) * P(A) / P(C)\n",
        "\n",
        "Sabemos que P(B|A) = 1/2, porque se o prêmio está atrás da porta A, o apresentador pode abrir a porta B ou a porta C com igual probabilidade. Além disso, P(C|A) = 1, porque se o prêmio está atrás da porta A, o apresentador deve abrir a porta que não tem o prêmio.\n",
        "\n",
        "Assumindo que o participante escolheu a porta A inicialmente, temos P(A) = 1/3 e P(B) = 1/2, porque o apresentador só pode abrir a porta B se o prêmio não estiver atrás da porta A.\n",
        "\n",
        "Substituindo esses valores, obtemos:\n",
        "\n",
        "P(A|B) = (1/2) * (1/3) / (1/2) = 1/3\n",
        "\n",
        "P(A|C) = 1 * (1/3) / (1/2) = 2/3\n",
        "\n",
        "Portanto, se o participante mudar de escolha para a porta B, ele tem uma probabilidade maior de acertar o prêmio, que é de 2/3, em vez de 1/3 se ele mantiver a escolha inicial na porta A."
      ],
      "metadata": {
        "id": "TvFBT2fLSLeU"
      },
      "id": "TvFBT2fLSLeU"
    },
    {
      "cell_type": "code",
      "execution_count": null,
      "id": "7e268bb6",
      "metadata": {
        "id": "7e268bb6",
        "colab": {
          "base_uri": "https://localhost:8080/"
        },
        "outputId": "7e61c017-0984-4ca7-99e8-277ee0fc6e96"
      },
      "outputs": [
        {
          "output_type": "stream",
          "name": "stdout",
          "text": [
            "Probabilidade do prêmio estar na porta A sem a troca: 0.3333333333333333\n",
            "Probabilidade do prêmio estar na porta B com a troca: 0.6666666666666667\n"
          ]
        }
      ],
      "source": [
        "# Probabilidade inicial de cada porta conter o prêmio\n",
        "p_a = p_b = p_c = 1/3\n",
        "\n",
        "# Após a porta C ser aberta e não haver o prêmio\n",
        "p_c_sem_premio = 1\n",
        "p_a_sem_premio = p_a * p_c_sem_premio / (p_a * p_c_sem_premio + p_b * p_c_sem_premio + p_c * p_c_sem_premio)\n",
        "p_b_sem_premio = p_b * p_c_sem_premio / (p_a * p_c_sem_premio + p_b * p_c_sem_premio + p_c * p_c_sem_premio)\n",
        "\n",
        "# Probabilidade de o prêmio estar em cada porta após a porta C ser aberta e não haver o prêmio\n",
        "p_a_com_troca = p_a_sem_premio \n",
        "p_b_com_troca = (1 - p_a_sem_premio) \n",
        "\n",
        "print(\"Probabilidade do prêmio estar na porta A sem a troca:\", p_a_com_troca)\n",
        "print(\"Probabilidade do prêmio estar na porta B com a troca:\", p_b_com_troca)"
      ]
    }
  ],
  "metadata": {
    "kernelspec": {
      "display_name": "Python 3 (ipykernel)",
      "language": "python",
      "name": "python3"
    },
    "language_info": {
      "codemirror_mode": {
        "name": "ipython",
        "version": 3
      },
      "file_extension": ".py",
      "mimetype": "text/x-python",
      "name": "python",
      "nbconvert_exporter": "python",
      "pygments_lexer": "ipython3",
      "version": "3.9.13"
    },
    "colab": {
      "provenance": []
    }
  },
  "nbformat": 4,
  "nbformat_minor": 5
}